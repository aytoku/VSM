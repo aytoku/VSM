{
 "cells": [
  {
   "cell_type": "code",
   "execution_count": 1,
   "metadata": {},
   "outputs": [],
   "source": [
    "import math\n",
    "import os\n",
    "import pylab\n",
    "import csv\n",
    "import pymorphy2"
   ]
  },
  {
   "cell_type": "code",
   "execution_count": 2,
   "metadata": {},
   "outputs": [],
   "source": [
    "def csv_dict_writer(path, fieldnames, data):\n",
    "    \"\"\"\n",
    "    Writes a CSV file using DictWriter\n",
    "    \"\"\"\n",
    "    with open(path, \"w\", newline='') as out_file:\n",
    "        writer = csv.DictWriter(out_file, delimiter=';', fieldnames=fieldnames)\n",
    "        writer.writeheader()\n",
    "        for row in data:\n",
    "            writer.writerow(row)"
   ]
  },
  {
   "cell_type": "code",
   "execution_count": 3,
   "metadata": {},
   "outputs": [],
   "source": [
    "def fix_text(strings_list):\n",
    "    black_list = [',', '.', '!','?','-',';','\\'','(',')','[',']','{','}', '–']\n",
    "    functors_pos = {'INTJ', 'PRCL', 'CONJ', 'PREP', 'NUMB'}\n",
    "    morph = pymorphy2.MorphAnalyzer()\n",
    "    # цикл для удаления подстрок из black_list \n",
    "    for i in range(len(strings_list)):\n",
    "        for j in range(len(black_list)):\n",
    "            strings_list[i] = strings_list[i].replace(black_list[j],'')\n",
    "        temp = strings_list[i].lower().split();\n",
    "        strings_list[i] = \"\"\n",
    "        # цикл для замены слова на его начальную форму \n",
    "        for j in range(len(temp)):\n",
    "            p = morph.parse(temp[j])\n",
    "            if len(p)>0 and p[0].tag.POS not in functors_pos:\n",
    "                strings_list[i] += p[0].normal_form\n",
    "            else:\n",
    "                strings_list[i] += temp[j]\n",
    "            strings_list[i] += \" \"\n",
    "        strings_list[i].strip()\n",
    "    return strings_list"
   ]
  },
  {
   "cell_type": "code",
   "execution_count": 4,
   "metadata": {},
   "outputs": [
    {
     "name": "stdout",
     "output_type": "stream",
     "text": [
      "Список коллекций для анализа\n",
      "=======================================\n",
      "0=>all_files\n",
      "1=>Data Science\n",
      "2=>История\n",
      "3=>Начало работы с WPF. Visual Studio\n",
      "=======================================\n",
      "\n",
      "Введите коллекции документа для анализа\n",
      "0\n"
     ]
    }
   ],
   "source": [
    "dirs = os.listdir(\"dictionary\")\n",
    "print(\"Список коллекций для анализа\")\n",
    "print(\"=======================================\")\n",
    "for i in range(len(dirs)):\n",
    "    print(str(i)+\"=>\"+dirs[i])\n",
    "print(\"=======================================\")\n",
    "print(\"\\r\\nВведите коллекции документа для анализа\")\n",
    "ind = int(input())"
   ]
  },
  {
   "cell_type": "code",
   "execution_count": 5,
   "metadata": {},
   "outputs": [
    {
     "data": {
      "image/png": "[encoded data removed]",
      "text/plain": [
       "<Figure size 432x288 with 1 Axes>"
      ]
     },
     "metadata": {
      "needs_background": "light"
     },
     "output_type": "display_data"
    }
   ],
   "source": [
    "\n",
    "files = os.listdir(\"dictionary/\"+dirs[ind])\n",
    "global_word_dict_arr = {}\n",
    "for j in range(len(files)):\n",
    "    with open('dictionary/'+dirs[ind]+\"/\"+files[j]) as f:\n",
    "        arr = f.readlines()\n",
    "    arr = fix_text(arr)\n",
    "    n = len(arr)\n",
    "    letter = [arr[i].lower().split() for i in range(n)]\n",
    "    word_set = {}\n",
    "    for i in range(n):\n",
    "        word_set = set(word_set).union(set(letter[i]))\n",
    "    word_dict_arr = dict.fromkeys(word_set, 0)\n",
    "    for i in range(n):\n",
    "        for word in letter[i]:\n",
    "            word_dict_arr[word] += 1\n",
    "    for key, val in word_dict_arr.items():\n",
    "        if global_word_dict_arr.__contains__(key):\n",
    "            global_word_dict_arr[key] += val\n",
    "        else:\n",
    "            global_word_dict_arr[key] = val\n",
    "global_word_dict_arr = {k: v for k, v in sorted(global_word_dict_arr.items(), reverse=True,key=lambda item: item[1])}\n",
    "\n",
    "# Область значений для текущих данных\n",
    "global_word_list_arr = [v for k, v in sorted(global_word_dict_arr.items(), reverse=True,key=lambda item: item[1])]\n",
    "\n",
    "# Строим область определения\n",
    "x = [i+1 for i in range(len(global_word_list_arr))]\n",
    "\n",
    "# Строим Ципфа\n",
    "C = global_word_list_arr[0] # постоянная величина\n",
    "y = [math.ceil(float(C)/(i+1)) for i in range(len(global_word_list_arr))]\n",
    "\n",
    "# Строим графики\n",
    "pylab.plot(x, global_word_list_arr, '-b', label='Реальная кривая')\n",
    "pylab.plot(x, y, '-r', label='Теоретическая кривая')\n",
    "pylab.legend()\n",
    "pylab.show()\n",
    "\n",
    "my_list = [{\"Слово\":k,\"Текущие данные\":v} for k, v in sorted(global_word_dict_arr.items(), reverse=True,key=lambda item: item[1])]\n",
    "for i in range(len(my_list)):\n",
    "    my_list[i][\"Ципф\"] = y[i]\n",
    "\n",
    "csv_dict_writer(\"zipf_table.csv\", [\"Слово\",\"Текущие данные\", \"Ципф\"], my_list)"
   ]
  }
 ],
 "metadata": {
  "kernelspec": {
   "display_name": "Python 3",
   "language": "python",
   "name": "python3"
  },
  "language_info": {
   "codemirror_mode": {
    "name": "ipython",
    "version": 3
   },
   "file_extension": ".py",
   "mimetype": "text/x-python",
   "name": "python",
   "nbconvert_exporter": "python",
   "pygments_lexer": "ipython3",
   "version": "3.7.3"
  }
 },
 "nbformat": 4,
 "nbformat_minor": 2
}
