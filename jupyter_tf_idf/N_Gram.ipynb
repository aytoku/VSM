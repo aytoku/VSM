{
 "cells": [
  {
   "cell_type": "code",
   "execution_count": 10,
   "metadata": {},
   "outputs": [],
   "source": [
    "import math\n",
    "import os\n",
    "import pylab\n",
    "import csv\n",
    "import pymorphy2\n",
    "from nltk.util import ngrams\n",
    "import collections"
   ]
  },
  {
   "cell_type": "code",
   "execution_count": 11,
   "metadata": {},
   "outputs": [],
   "source": [
    "def fix_text(text):\n",
    "    functors_pos = {'INTJ', 'PRCL', 'CONJ', 'PREP', 'NUMB'}\n",
    "    black_list = [',', '.', '!','?','-',';','\\'','(',')','[',']','{','}', '–']\n",
    "    morph = pymorphy2.MorphAnalyzer()\n",
    "    for i in range(len(black_list)):\n",
    "        text = text.replace(black_list[i],'')\n",
    "    return text"
   ]
  },
  {
   "cell_type": "code",
   "execution_count": 12,
   "metadata": {},
   "outputs": [
    {
     "name": "stdout",
     "output_type": "stream",
     "text": [
      "Список коллекций для анализа\n",
      "=======================================\n",
      "0=>all_files\n",
      "1=>Data Science\n",
      "2=>История\n",
      "3=>Начало работы с WPF. Visual Studio\n",
      "=======================================\n",
      "\n",
      "Введите коллекции документа для анализа\n",
      "0\n",
      "\n",
      "Введите n для n-gram\n",
      "3\n"
     ]
    },
    {
     "data": {
      "text/plain": [
       "[(('если', 'имеет', 'значение'), 11),\n",
       " (('имеет', 'значение', 'true'), 11),\n",
       " (('значение', 'true', 'то'), 11),\n",
       " (('true', 'то', 'свойство'), 8),\n",
       " (('то', 'свойство', 'зависимостей'), 8),\n",
       " (('в', 'до', 'нэ'), 8),\n",
       " (('свойство', 'зависимостей', 'будет'), 6),\n",
       " (('и', 'тд', 'Команды'), 5),\n",
       " (('в', 'Новгороде', 'и'), 4),\n",
       " (('Новгороде', 'и', 'Пскове'), 4),\n",
       " (('и', 'Random', 'Forest'), 3),\n",
       " (('в', 'данном', 'случае'), 3),\n",
       " (('на', 'метод', 'который'), 3),\n",
       " (('зависимостей', 'будет', 'влиять'), 3),\n",
       " (('будет', 'влиять', 'на'), 3),\n",
       " (('II', 'в', 'до'), 3),\n",
       " (('важность', 'переменных', 'для'), 2),\n",
       " (('в', 'зависимости', 'от'), 2),\n",
       " (('за', 'первые', 'два'), 2),\n",
       " (('первые', 'два', 'дня'), 2),\n",
       " (('активности', 'на', 'курсе'), 2),\n",
       " (('более', '40', 'баллов'), 2),\n",
       " (('Данный', 'урок', 'оказался'), 2),\n",
       " (('урок', 'оказался', 'немного'), 2),\n",
       " (('оказался', 'немного', 'оторванным'), 2),\n",
       " (('немного', 'оторванным', 'от'), 2),\n",
       " (('оторванным', 'от', 'остального'), 2),\n",
       " (('от', 'остального', 'курса'), 2),\n",
       " (('остального', 'курса', 'поэтому'), 2),\n",
       " (('курса', 'поэтому', 'нужно'), 2),\n",
       " (('поэтому', 'нужно', 'добавить'), 2),\n",
       " (('нужно', 'добавить', 'информации'), 2),\n",
       " (('добавить', 'информации', 'перед'), 2),\n",
       " (('информации', 'перед', 'его'), 2),\n",
       " (('перед', 'его', 'прохождением'), 2),\n",
       " (('его', 'прохождением', 'Речь'), 2),\n",
       " (('прохождением', 'Речь', 'пойдёт'), 2),\n",
       " (('Речь', 'пойдёт', 'об'), 2),\n",
       " (('пойдёт', 'об', 'алгоритме'), 2),\n",
       " (('об', 'алгоритме', 'для'), 2)]"
      ]
     },
     "execution_count": 12,
     "metadata": {},
     "output_type": "execute_result"
    }
   ],
   "source": [
    "dirs = os.listdir(\"dictionary\")\n",
    "print(\"Список коллекций для анализа\")\n",
    "print(\"=======================================\")\n",
    "for i in range(len(dirs)):\n",
    "    print(str(i)+\"=>\"+dirs[i])\n",
    "print(\"=======================================\")\n",
    "print(\"\\r\\nВведите коллекции документа для анализа\")\n",
    "ind = int(input())\n",
    "\n",
    "dirs = os.listdir(\"dictionary\")\n",
    "files = os.listdir(\"dictionary/\"+dirs[ind])\n",
    "collection = \"\"\n",
    "for j in range(len(files)):\n",
    "    with open('dictionary/'+dirs[ind]+\"/\"+files[j]) as f:\n",
    "        line = f.readline()\n",
    "        while line:\n",
    "            collection += line + \" \"\n",
    "            line = f.readline()\n",
    "collection = fix_text(collection)\n",
    "tokenized = collection.split()\n",
    "\n",
    "print(\"\\r\\nВведите n для n-gram\")\n",
    "Ngrams = ngrams(tokenized, int(input()))\n",
    "NgramFreq = collections.Counter(Ngrams)\n",
    "\n",
    "NgramFreq.most_common(10)"
   ]
  }
 ],
 "metadata": {
  "kernelspec": {
   "display_name": "Python 3",
   "language": "python",
   "name": "python3"
  },
  "language_info": {
   "codemirror_mode": {
    "name": "ipython",
    "version": 3
   },
   "file_extension": ".py",
   "mimetype": "text/x-python",
   "name": "python",
   "nbconvert_exporter": "python",
   "pygments_lexer": "ipython3",
   "version": "3.7.3"
  }
 },
 "nbformat": 4,
 "nbformat_minor": 2
}
