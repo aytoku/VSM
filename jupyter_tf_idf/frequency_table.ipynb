{
 "cells": [
  {
   "cell_type": "code",
   "execution_count": 50,
   "metadata": {},
   "outputs": [],
   "source": [
    "import math\n",
    "import os\n",
    "import pylab\n",
    "import csv\n",
    "import pymorphy2"
   ]
  },
  {
   "cell_type": "code",
   "execution_count": 51,
   "metadata": {},
   "outputs": [],
   "source": [
    "def csv_dict_writer(path, fieldnames, data):\n",
    "    \"\"\"\n",
    "    Writes a CSV file using DictWriter\n",
    "    \"\"\"\n",
    "    with open(path, \"w\", newline='') as out_file:\n",
    "        writer = csv.DictWriter(out_file, delimiter=';', fieldnames=fieldnames)\n",
    "        writer.writeheader()\n",
    "        for row in data:\n",
    "            writer.writerow(row)"
   ]
  },
  {
   "cell_type": "code",
   "execution_count": 52,
   "metadata": {},
   "outputs": [],
   "source": [
    "def fix_text(strings_list):\n",
    "    black_list = [',', '.', '!','?','-',';','\\'','(',')','[',']','{','}']\n",
    "    morph = pymorphy2.MorphAnalyzer()\n",
    "    for i in range(len(strings_list)):\n",
    "        for j in range(len(black_list)):\n",
    "            strings_list[i] = strings_list[i].replace(black_list[j],'')\n",
    "        temp = strings_list[i].lower().split();\n",
    "        strings_list[i] = \"\"\n",
    "        for j in range(len(temp)):\n",
    "            p = morph.parse(temp[j])\n",
    "            if len(p)>0:  \n",
    "                strings_list[i] += p[0].normal_form\n",
    "            else:\n",
    "                strings_list[i] += temp[j]\n",
    "            strings_list[i] += \" \"\n",
    "        strings_list[i].strip()\n",
    "    return strings_list"
   ]
  },
  {
   "cell_type": "code",
   "execution_count": 53,
   "metadata": {},
   "outputs": [
    {
     "name": "stdout",
     "output_type": "stream",
     "text": [
      "хуй\n"
     ]
    }
   ],
   "source": [
    "dirs = os.listdir(\"dictionary2\")\n",
    "global_word_dict_arr = []\n",
    "global_word_set = []\n",
    "\n",
    "for k in range(len(dirs)):\n",
    "    global_word_dict_arr.append({})\n",
    "    files = os.listdir(\"dictionary2/\"+dirs[k])\n",
    "    for j in range(len(files)):\n",
    "        with open('dictionary2/'+dirs[k]+\"/\"+files[j]) as f:\n",
    "            arr = f.readlines()\n",
    "        arr = fix_text(arr)\n",
    "        n = len(arr)\n",
    "        letter = [arr[i].lower().split() for i in range(n)]\n",
    "        word_set = {}\n",
    "        for i in range(n):\n",
    "            word_set = set(word_set).union(set(letter[i]))\n",
    "        global_word_set = set(global_word_set).union(word_set)\n",
    "        word_dict_arr = dict.fromkeys(word_set, 0)\n",
    "        for i in range(n):\n",
    "            for word in letter[i]:\n",
    "                word_dict_arr[word] += 1\n",
    "        for key, val in word_dict_arr.items():\n",
    "            if global_word_dict_arr[k].__contains__(key):\n",
    "                global_word_dict_arr[k][key] += val\n",
    "            else:\n",
    "                global_word_dict_arr[k][key] = val\n",
    "#global_word_dict_arr = {k: v for k, v in sorted(global_word_dict_arr.items(), reverse=True,key=lambda item: item[1])}\n",
    "\n",
    "# Область значений для реальных показателей\n",
    "#global_word_list_arr = [v for k, v in sorted(global_word_dict_arr.items(), reverse=True,key=lambda item: item[1])]\n",
    "\n",
    "\n",
    "#my_list = [{\" \":k,\"Реальная частота\":v} for k, v in global_word_dict_arr.items()]\n",
    "\n",
    "#for i in range(len(my_list)):\n",
    "#    my_list[i][\"Ципф\"] = y[i]\n",
    "\n",
    "my_list = []\n",
    "\n",
    "for word in global_word_set:\n",
    "    my_list.append({\" \": word})\n",
    "    for i in range(len(dirs)):\n",
    "        dirname = dirs[i]\n",
    "        my_list[len(my_list)-1][dirname] = global_word_dict_arr[i][word] if global_word_dict_arr[i].__contains__(word) else 0\n",
    "    \n",
    "dirs.insert(0,\" \")\n",
    "csv_dict_writer(\"frequencу.csv\", dirs, my_list)"
   ]
  },
  {
   "cell_type": "code",
   "execution_count": null,
   "metadata": {},
   "outputs": [],
   "source": []
  }
 ],
 "metadata": {
  "kernelspec": {
   "display_name": "Python 3",
   "language": "python",
   "name": "python3"
  },
  "language_info": {
   "codemirror_mode": {
    "name": "ipython",
    "version": 3
   },
   "file_extension": ".py",
   "mimetype": "text/x-python",
   "name": "python",
   "nbconvert_exporter": "python",
   "pygments_lexer": "ipython3",
   "version": "3.7.3"
  }
 },
 "nbformat": 4,
 "nbformat_minor": 2
}
